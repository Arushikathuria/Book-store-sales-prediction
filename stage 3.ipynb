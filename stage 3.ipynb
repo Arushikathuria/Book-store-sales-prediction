{
 "cells": [
  {
   "cell_type": "code",
   "execution_count": 1,
   "metadata": {},
   "outputs": [],
   "source": [
    "import pandas as pd\n",
    "import numpy as np\n",
    "import matplotlib.pyplot as plt\n",
    "import seaborn as sns"
   ]
  },
  {
   "cell_type": "markdown",
   "metadata": {},
   "source": [
    "#### Master Data"
   ]
  },
  {
   "cell_type": "code",
   "execution_count": 2,
   "metadata": {},
   "outputs": [
    {
     "data": {
      "text/plain": [
       "(30, 2)"
      ]
     },
     "execution_count": 2,
     "metadata": {},
     "output_type": "execute_result"
    }
   ],
   "source": [
    "master = pd.read_excel(r\"G:\\Stage 3\\Master.xlsx\")\n",
    "master.shape"
   ]
  },
  {
   "cell_type": "code",
   "execution_count": 3,
   "metadata": {},
   "outputs": [
    {
     "data": {
      "text/html": [
       "<div>\n",
       "<style scoped>\n",
       "    .dataframe tbody tr th:only-of-type {\n",
       "        vertical-align: middle;\n",
       "    }\n",
       "\n",
       "    .dataframe tbody tr th {\n",
       "        vertical-align: top;\n",
       "    }\n",
       "\n",
       "    .dataframe thead th {\n",
       "        text-align: right;\n",
       "    }\n",
       "</style>\n",
       "<table border=\"1\" class=\"dataframe\">\n",
       "  <thead>\n",
       "    <tr style=\"text-align: right;\">\n",
       "      <th></th>\n",
       "      <th>Stall</th>\n",
       "      <th>Size</th>\n",
       "    </tr>\n",
       "  </thead>\n",
       "  <tbody>\n",
       "    <tr>\n",
       "      <th>0</th>\n",
       "      <td>1</td>\n",
       "      <td>151315</td>\n",
       "    </tr>\n",
       "    <tr>\n",
       "      <th>1</th>\n",
       "      <td>2</td>\n",
       "      <td>202307</td>\n",
       "    </tr>\n",
       "    <tr>\n",
       "      <th>2</th>\n",
       "      <td>3</td>\n",
       "      <td>37392</td>\n",
       "    </tr>\n",
       "    <tr>\n",
       "      <th>3</th>\n",
       "      <td>4</td>\n",
       "      <td>205863</td>\n",
       "    </tr>\n",
       "    <tr>\n",
       "      <th>4</th>\n",
       "      <td>5</td>\n",
       "      <td>34875</td>\n",
       "    </tr>\n",
       "  </tbody>\n",
       "</table>\n",
       "</div>"
      ],
      "text/plain": [
       "   Stall    Size\n",
       "0      1  151315\n",
       "1      2  202307\n",
       "2      3   37392\n",
       "3      4  205863\n",
       "4      5   34875"
      ]
     },
     "execution_count": 3,
     "metadata": {},
     "output_type": "execute_result"
    }
   ],
   "source": [
    "master.head()"
   ]
  },
  {
   "cell_type": "code",
   "execution_count": 4,
   "metadata": {},
   "outputs": [
    {
     "data": {
      "text/plain": [
       "array([ 1,  2,  3,  4,  5,  6,  7,  8,  9, 10, 11, 12, 13, 14, 15, 16, 17,\n",
       "       18, 19, 20, 21, 22, 23, 24, 25, 26, 27, 28, 29, 30], dtype=int64)"
      ]
     },
     "execution_count": 4,
     "metadata": {},
     "output_type": "execute_result"
    }
   ],
   "source": [
    "master['Stall'].unique()"
   ]
  },
  {
   "cell_type": "code",
   "execution_count": 5,
   "metadata": {},
   "outputs": [
    {
     "data": {
      "image/png": "[encoded data removed]",
      "text/plain": [
       "<Figure size 1800x720 with 1 Axes>"
      ]
     },
     "metadata": {
      "needs_background": "light"
     },
     "output_type": "display_data"
    }
   ],
   "source": [
    "plt.figure(figsize=(25,10))\n",
    "plt.bar(master['Stall'],master['Size'],color='m')\n",
    "plt.show()"
   ]
  },
  {
   "cell_type": "markdown",
   "metadata": {},
   "source": [
    "#### More Attributes data"
   ]
  },
  {
   "cell_type": "code",
   "execution_count": 5,
   "metadata": {},
   "outputs": [
    {
     "data": {
      "text/plain": [
       "(5460, 6)"
      ]
     },
     "execution_count": 5,
     "metadata": {},
     "output_type": "execute_result"
    }
   ],
   "source": [
    "more_attributes = pd.read_excel(r\"G:\\Stage 3\\More-Attributes.xlsx\")\n",
    "more_attributes.shape"
   ]
  },
  {
   "cell_type": "code",
   "execution_count": 6,
   "metadata": {
    "scrolled": true
   },
   "outputs": [
    {
     "data": {
      "text/html": [
       "<div>\n",
       "<style scoped>\n",
       "    .dataframe tbody tr th:only-of-type {\n",
       "        vertical-align: middle;\n",
       "    }\n",
       "\n",
       "    .dataframe tbody tr th {\n",
       "        vertical-align: top;\n",
       "    }\n",
       "\n",
       "    .dataframe thead th {\n",
       "        text-align: right;\n",
       "    }\n",
       "</style>\n",
       "<table border=\"1\" class=\"dataframe\">\n",
       "  <thead>\n",
       "    <tr style=\"text-align: right;\">\n",
       "      <th></th>\n",
       "      <th>ID</th>\n",
       "      <th>Date_in_a_week</th>\n",
       "      <th>Campaign 1</th>\n",
       "      <th>Campaign 2</th>\n",
       "      <th>Consumer Price Index</th>\n",
       "      <th>Holiday</th>\n",
       "    </tr>\n",
       "  </thead>\n",
       "  <tbody>\n",
       "    <tr>\n",
       "      <th>0</th>\n",
       "      <td>1</td>\n",
       "      <td>2010-02-05</td>\n",
       "      <td>NaN</td>\n",
       "      <td>NaN</td>\n",
       "      <td>211.096358</td>\n",
       "      <td>False</td>\n",
       "    </tr>\n",
       "    <tr>\n",
       "      <th>1</th>\n",
       "      <td>1</td>\n",
       "      <td>2010-02-12</td>\n",
       "      <td>NaN</td>\n",
       "      <td>NaN</td>\n",
       "      <td>211.242170</td>\n",
       "      <td>True</td>\n",
       "    </tr>\n",
       "    <tr>\n",
       "      <th>2</th>\n",
       "      <td>1</td>\n",
       "      <td>2010-02-19</td>\n",
       "      <td>NaN</td>\n",
       "      <td>NaN</td>\n",
       "      <td>211.289143</td>\n",
       "      <td>False</td>\n",
       "    </tr>\n",
       "    <tr>\n",
       "      <th>3</th>\n",
       "      <td>1</td>\n",
       "      <td>2010-02-26</td>\n",
       "      <td>NaN</td>\n",
       "      <td>NaN</td>\n",
       "      <td>211.319643</td>\n",
       "      <td>False</td>\n",
       "    </tr>\n",
       "    <tr>\n",
       "      <th>4</th>\n",
       "      <td>1</td>\n",
       "      <td>2010-03-05</td>\n",
       "      <td>NaN</td>\n",
       "      <td>NaN</td>\n",
       "      <td>211.350143</td>\n",
       "      <td>False</td>\n",
       "    </tr>\n",
       "  </tbody>\n",
       "</table>\n",
       "</div>"
      ],
      "text/plain": [
       "   ID Date_in_a_week  Campaign 1  Campaign 2  Consumer Price Index  Holiday\n",
       "0   1     2010-02-05         NaN         NaN            211.096358    False\n",
       "1   1     2010-02-12         NaN         NaN            211.242170     True\n",
       "2   1     2010-02-19         NaN         NaN            211.289143    False\n",
       "3   1     2010-02-26         NaN         NaN            211.319643    False\n",
       "4   1     2010-03-05         NaN         NaN            211.350143    False"
      ]
     },
     "execution_count": 6,
     "metadata": {},
     "output_type": "execute_result"
    }
   ],
   "source": [
    "more_attributes.head()"
   ]
  },
  {
   "cell_type": "code",
   "execution_count": 7,
   "metadata": {},
   "outputs": [
    {
     "name": "stdout",
     "output_type": "stream",
     "text": [
      "<class 'pandas.core.frame.DataFrame'>\n",
      "RangeIndex: 5460 entries, 0 to 5459\n",
      "Data columns (total 6 columns):\n",
      " #   Column                Non-Null Count  Dtype         \n",
      "---  ------                --------------  -----         \n",
      " 0   ID                    5460 non-null   int64         \n",
      " 1   Date_in_a_week        5460 non-null   datetime64[ns]\n",
      " 2   Campaign 1            2698 non-null   float64       \n",
      " 3   Campaign 2            2120 non-null   float64       \n",
      " 4   Consumer Price Index  5070 non-null   float64       \n",
      " 5   Holiday               5460 non-null   bool          \n",
      "dtypes: bool(1), datetime64[ns](1), float64(3), int64(1)\n",
      "memory usage: 218.7 KB\n"
     ]
    }
   ],
   "source": [
    "more_attributes.info()"
   ]
  },
  {
   "cell_type": "code",
   "execution_count": 8,
   "metadata": {},
   "outputs": [
    {
     "data": {
      "text/html": [
       "<div>\n",
       "<style scoped>\n",
       "    .dataframe tbody tr th:only-of-type {\n",
       "        vertical-align: middle;\n",
       "    }\n",
       "\n",
       "    .dataframe tbody tr th {\n",
       "        vertical-align: top;\n",
       "    }\n",
       "\n",
       "    .dataframe thead th {\n",
       "        text-align: right;\n",
       "    }\n",
       "</style>\n",
       "<table border=\"1\" class=\"dataframe\">\n",
       "  <thead>\n",
       "    <tr style=\"text-align: right;\">\n",
       "      <th></th>\n",
       "      <th>count</th>\n",
       "      <th>mean</th>\n",
       "      <th>std</th>\n",
       "      <th>min</th>\n",
       "      <th>1%</th>\n",
       "      <th>5%</th>\n",
       "      <th>10%</th>\n",
       "      <th>25%</th>\n",
       "      <th>50%</th>\n",
       "      <th>75%</th>\n",
       "      <th>90%</th>\n",
       "      <th>95%</th>\n",
       "      <th>96%</th>\n",
       "      <th>97%</th>\n",
       "      <th>98%</th>\n",
       "      <th>99%</th>\n",
       "      <th>max</th>\n",
       "    </tr>\n",
       "  </thead>\n",
       "  <tbody>\n",
       "    <tr>\n",
       "      <th>ID</th>\n",
       "      <td>5460.0</td>\n",
       "      <td>15.500000</td>\n",
       "      <td>8.656234</td>\n",
       "      <td>1.000</td>\n",
       "      <td>1.000000</td>\n",
       "      <td>2.000000</td>\n",
       "      <td>3.9000</td>\n",
       "      <td>8.000000</td>\n",
       "      <td>15.500000</td>\n",
       "      <td>23.000000</td>\n",
       "      <td>27.100000</td>\n",
       "      <td>29.000000</td>\n",
       "      <td>29.00000</td>\n",
       "      <td>30.000000</td>\n",
       "      <td>30.000000</td>\n",
       "      <td>30.000000</td>\n",
       "      <td>30.000000</td>\n",
       "    </tr>\n",
       "    <tr>\n",
       "      <th>Campaign 1</th>\n",
       "      <td>2698.0</td>\n",
       "      <td>8027.345845</td>\n",
       "      <td>9572.977138</td>\n",
       "      <td>-2781.450</td>\n",
       "      <td>72.771700</td>\n",
       "      <td>584.901000</td>\n",
       "      <td>1133.5800</td>\n",
       "      <td>2835.152500</td>\n",
       "      <td>5578.160000</td>\n",
       "      <td>9742.045000</td>\n",
       "      <td>15661.462000</td>\n",
       "      <td>23294.565000</td>\n",
       "      <td>25949.31000</td>\n",
       "      <td>29371.499500</td>\n",
       "      <td>35735.282600</td>\n",
       "      <td>56148.727100</td>\n",
       "      <td>103184.980000</td>\n",
       "    </tr>\n",
       "    <tr>\n",
       "      <th>Campaign 2</th>\n",
       "      <td>2120.0</td>\n",
       "      <td>3713.631113</td>\n",
       "      <td>9540.395718</td>\n",
       "      <td>-265.760</td>\n",
       "      <td>0.000000</td>\n",
       "      <td>3.095000</td>\n",
       "      <td>11.2270</td>\n",
       "      <td>73.895000</td>\n",
       "      <td>380.710000</td>\n",
       "      <td>2547.300000</td>\n",
       "      <td>9340.615000</td>\n",
       "      <td>19634.192000</td>\n",
       "      <td>25366.70680</td>\n",
       "      <td>31938.656600</td>\n",
       "      <td>38261.055000</td>\n",
       "      <td>49674.105600</td>\n",
       "      <td>104519.540000</td>\n",
       "    </tr>\n",
       "    <tr>\n",
       "      <th>Consumer Price Index</th>\n",
       "      <td>5070.0</td>\n",
       "      <td>172.964196</td>\n",
       "      <td>40.354289</td>\n",
       "      <td>126.064</td>\n",
       "      <td>126.114581</td>\n",
       "      <td>126.669267</td>\n",
       "      <td>129.4306</td>\n",
       "      <td>132.756667</td>\n",
       "      <td>162.433445</td>\n",
       "      <td>214.850006</td>\n",
       "      <td>222.629172</td>\n",
       "      <td>225.097338</td>\n",
       "      <td>225.43079</td>\n",
       "      <td>225.860301</td>\n",
       "      <td>227.056366</td>\n",
       "      <td>227.826505</td>\n",
       "      <td>228.976456</td>\n",
       "    </tr>\n",
       "  </tbody>\n",
       "</table>\n",
       "</div>"
      ],
      "text/plain": [
       "                       count         mean          std       min          1%  \\\n",
       "ID                    5460.0    15.500000     8.656234     1.000    1.000000   \n",
       "Campaign 1            2698.0  8027.345845  9572.977138 -2781.450   72.771700   \n",
       "Campaign 2            2120.0  3713.631113  9540.395718  -265.760    0.000000   \n",
       "Consumer Price Index  5070.0   172.964196    40.354289   126.064  126.114581   \n",
       "\n",
       "                              5%        10%          25%          50%  \\\n",
       "ID                      2.000000     3.9000     8.000000    15.500000   \n",
       "Campaign 1            584.901000  1133.5800  2835.152500  5578.160000   \n",
       "Campaign 2              3.095000    11.2270    73.895000   380.710000   \n",
       "Consumer Price Index  126.669267   129.4306   132.756667   162.433445   \n",
       "\n",
       "                              75%           90%           95%          96%  \\\n",
       "ID                      23.000000     27.100000     29.000000     29.00000   \n",
       "Campaign 1            9742.045000  15661.462000  23294.565000  25949.31000   \n",
       "Campaign 2            2547.300000   9340.615000  19634.192000  25366.70680   \n",
       "Consumer Price Index   214.850006    222.629172    225.097338    225.43079   \n",
       "\n",
       "                               97%           98%           99%            max  \n",
       "ID                       30.000000     30.000000     30.000000      30.000000  \n",
       "Campaign 1            29371.499500  35735.282600  56148.727100  103184.980000  \n",
       "Campaign 2            31938.656600  38261.055000  49674.105600  104519.540000  \n",
       "Consumer Price Index    225.860301    227.056366    227.826505     228.976456  "
      ]
     },
     "execution_count": 8,
     "metadata": {},
     "output_type": "execute_result"
    }
   ],
   "source": [
    "more_attributes.describe(percentiles=[0.01,0.05,0.10,0.25,0.50,0.75,0.90,0.95,0.96,0.97,0.98,0.99]).T"
   ]
  },
  {
   "cell_type": "code",
   "execution_count": 9,
   "metadata": {},
   "outputs": [
    {
     "data": {
      "text/plain": [
       "ID                         0\n",
       "Date_in_a_week             0\n",
       "Campaign 1              2762\n",
       "Campaign 2              3340\n",
       "Consumer Price Index     390\n",
       "Holiday                    0\n",
       "dtype: int64"
      ]
     },
     "execution_count": 9,
     "metadata": {},
     "output_type": "execute_result"
    }
   ],
   "source": [
    "more_attributes.isnull().sum()"
   ]
  },
  {
   "cell_type": "code",
   "execution_count": 10,
   "metadata": {},
   "outputs": [],
   "source": [
    "more_attributes['year']=pd.DatetimeIndex(more_attributes['Date_in_a_week']).year\n",
    "more_attributes['month']=pd.DatetimeIndex(more_attributes['Date_in_a_week']).month\n",
    "more_attributes['day']=pd.DatetimeIndex(more_attributes['Date_in_a_week']).day"
   ]
  },
  {
   "cell_type": "code",
   "execution_count": 11,
   "metadata": {},
   "outputs": [
    {
     "data": {
      "text/plain": [
       "array([2010, 2011, 2012, 2013], dtype=int64)"
      ]
     },
     "execution_count": 11,
     "metadata": {},
     "output_type": "execute_result"
    }
   ],
   "source": [
    "more_attributes['year'].unique()"
   ]
  },
  {
   "cell_type": "markdown",
   "metadata": {},
   "source": [
    "##### Treating missing values"
   ]
  },
  {
   "cell_type": "code",
   "execution_count": 12,
   "metadata": {},
   "outputs": [
    {
     "data": {
      "text/html": [
       "<div>\n",
       "<style scoped>\n",
       "    .dataframe tbody tr th:only-of-type {\n",
       "        vertical-align: middle;\n",
       "    }\n",
       "\n",
       "    .dataframe tbody tr th {\n",
       "        vertical-align: top;\n",
       "    }\n",
       "\n",
       "    .dataframe thead th {\n",
       "        text-align: right;\n",
       "    }\n",
       "</style>\n",
       "<table border=\"1\" class=\"dataframe\">\n",
       "  <thead>\n",
       "    <tr style=\"text-align: right;\">\n",
       "      <th></th>\n",
       "      <th>ID</th>\n",
       "      <th>Date_in_a_week</th>\n",
       "      <th>Campaign 1</th>\n",
       "      <th>Campaign 2</th>\n",
       "      <th>Consumer Price Index</th>\n",
       "      <th>Holiday</th>\n",
       "      <th>year</th>\n",
       "      <th>month</th>\n",
       "      <th>day</th>\n",
       "    </tr>\n",
       "  </thead>\n",
       "  <tbody>\n",
       "    <tr>\n",
       "      <th>169</th>\n",
       "      <td>1</td>\n",
       "      <td>2013-05-03</td>\n",
       "      <td>2298.63</td>\n",
       "      <td>2.00</td>\n",
       "      <td>NaN</td>\n",
       "      <td>False</td>\n",
       "      <td>2013</td>\n",
       "      <td>5</td>\n",
       "      <td>3</td>\n",
       "    </tr>\n",
       "    <tr>\n",
       "      <th>170</th>\n",
       "      <td>1</td>\n",
       "      <td>2013-05-10</td>\n",
       "      <td>4624.61</td>\n",
       "      <td>83.88</td>\n",
       "      <td>NaN</td>\n",
       "      <td>False</td>\n",
       "      <td>2013</td>\n",
       "      <td>5</td>\n",
       "      <td>10</td>\n",
       "    </tr>\n",
       "    <tr>\n",
       "      <th>171</th>\n",
       "      <td>1</td>\n",
       "      <td>2013-05-17</td>\n",
       "      <td>16170.50</td>\n",
       "      <td>92.00</td>\n",
       "      <td>NaN</td>\n",
       "      <td>False</td>\n",
       "      <td>2013</td>\n",
       "      <td>5</td>\n",
       "      <td>17</td>\n",
       "    </tr>\n",
       "    <tr>\n",
       "      <th>172</th>\n",
       "      <td>1</td>\n",
       "      <td>2013-05-24</td>\n",
       "      <td>7959.89</td>\n",
       "      <td>178.00</td>\n",
       "      <td>NaN</td>\n",
       "      <td>False</td>\n",
       "      <td>2013</td>\n",
       "      <td>5</td>\n",
       "      <td>24</td>\n",
       "    </tr>\n",
       "    <tr>\n",
       "      <th>173</th>\n",
       "      <td>1</td>\n",
       "      <td>2013-05-31</td>\n",
       "      <td>2369.77</td>\n",
       "      <td>142.45</td>\n",
       "      <td>NaN</td>\n",
       "      <td>False</td>\n",
       "      <td>2013</td>\n",
       "      <td>5</td>\n",
       "      <td>31</td>\n",
       "    </tr>\n",
       "    <tr>\n",
       "      <th>...</th>\n",
       "      <td>...</td>\n",
       "      <td>...</td>\n",
       "      <td>...</td>\n",
       "      <td>...</td>\n",
       "      <td>...</td>\n",
       "      <td>...</td>\n",
       "      <td>...</td>\n",
       "      <td>...</td>\n",
       "      <td>...</td>\n",
       "    </tr>\n",
       "    <tr>\n",
       "      <th>5455</th>\n",
       "      <td>30</td>\n",
       "      <td>2013-06-28</td>\n",
       "      <td>1063.88</td>\n",
       "      <td>NaN</td>\n",
       "      <td>NaN</td>\n",
       "      <td>False</td>\n",
       "      <td>2013</td>\n",
       "      <td>6</td>\n",
       "      <td>28</td>\n",
       "    </tr>\n",
       "    <tr>\n",
       "      <th>5456</th>\n",
       "      <td>30</td>\n",
       "      <td>2013-07-05</td>\n",
       "      <td>378.21</td>\n",
       "      <td>NaN</td>\n",
       "      <td>NaN</td>\n",
       "      <td>False</td>\n",
       "      <td>2013</td>\n",
       "      <td>7</td>\n",
       "      <td>5</td>\n",
       "    </tr>\n",
       "    <tr>\n",
       "      <th>5457</th>\n",
       "      <td>30</td>\n",
       "      <td>2013-07-12</td>\n",
       "      <td>466.05</td>\n",
       "      <td>NaN</td>\n",
       "      <td>NaN</td>\n",
       "      <td>False</td>\n",
       "      <td>2013</td>\n",
       "      <td>7</td>\n",
       "      <td>12</td>\n",
       "    </tr>\n",
       "    <tr>\n",
       "      <th>5458</th>\n",
       "      <td>30</td>\n",
       "      <td>2013-07-19</td>\n",
       "      <td>189.49</td>\n",
       "      <td>NaN</td>\n",
       "      <td>NaN</td>\n",
       "      <td>False</td>\n",
       "      <td>2013</td>\n",
       "      <td>7</td>\n",
       "      <td>19</td>\n",
       "    </tr>\n",
       "    <tr>\n",
       "      <th>5459</th>\n",
       "      <td>30</td>\n",
       "      <td>2013-07-26</td>\n",
       "      <td>35.08</td>\n",
       "      <td>NaN</td>\n",
       "      <td>NaN</td>\n",
       "      <td>False</td>\n",
       "      <td>2013</td>\n",
       "      <td>7</td>\n",
       "      <td>26</td>\n",
       "    </tr>\n",
       "  </tbody>\n",
       "</table>\n",
       "<p>390 rows × 9 columns</p>\n",
       "</div>"
      ],
      "text/plain": [
       "      ID Date_in_a_week  Campaign 1  Campaign 2  Consumer Price Index  \\\n",
       "169    1     2013-05-03     2298.63        2.00                   NaN   \n",
       "170    1     2013-05-10     4624.61       83.88                   NaN   \n",
       "171    1     2013-05-17    16170.50       92.00                   NaN   \n",
       "172    1     2013-05-24     7959.89      178.00                   NaN   \n",
       "173    1     2013-05-31     2369.77      142.45                   NaN   \n",
       "...   ..            ...         ...         ...                   ...   \n",
       "5455  30     2013-06-28     1063.88         NaN                   NaN   \n",
       "5456  30     2013-07-05      378.21         NaN                   NaN   \n",
       "5457  30     2013-07-12      466.05         NaN                   NaN   \n",
       "5458  30     2013-07-19      189.49         NaN                   NaN   \n",
       "5459  30     2013-07-26       35.08         NaN                   NaN   \n",
       "\n",
       "      Holiday  year  month  day  \n",
       "169     False  2013      5    3  \n",
       "170     False  2013      5   10  \n",
       "171     False  2013      5   17  \n",
       "172     False  2013      5   24  \n",
       "173     False  2013      5   31  \n",
       "...       ...   ...    ...  ...  \n",
       "5455    False  2013      6   28  \n",
       "5456    False  2013      7    5  \n",
       "5457    False  2013      7   12  \n",
       "5458    False  2013      7   19  \n",
       "5459    False  2013      7   26  \n",
       "\n",
       "[390 rows x 9 columns]"
      ]
     },
     "execution_count": 12,
     "metadata": {},
     "output_type": "execute_result"
    }
   ],
   "source": [
    "m = more_attributes[more_attributes['Consumer Price Index'].isnull() & (more_attributes['year'] == 2013)]\n",
    "m"
   ]
  },
  {
   "cell_type": "code",
   "execution_count": 13,
   "metadata": {},
   "outputs": [
    {
     "data": {
      "text/html": [
       "<div>\n",
       "<style scoped>\n",
       "    .dataframe tbody tr th:only-of-type {\n",
       "        vertical-align: middle;\n",
       "    }\n",
       "\n",
       "    .dataframe tbody tr th {\n",
       "        vertical-align: top;\n",
       "    }\n",
       "\n",
       "    .dataframe thead th {\n",
       "        text-align: right;\n",
       "    }\n",
       "</style>\n",
       "<table border=\"1\" class=\"dataframe\">\n",
       "  <thead>\n",
       "    <tr style=\"text-align: right;\">\n",
       "      <th></th>\n",
       "      <th>ID</th>\n",
       "      <th>Date_in_a_week</th>\n",
       "      <th>Campaign 1</th>\n",
       "      <th>Campaign 2</th>\n",
       "      <th>Consumer Price Index</th>\n",
       "      <th>Holiday</th>\n",
       "      <th>year</th>\n",
       "      <th>month</th>\n",
       "      <th>day</th>\n",
       "    </tr>\n",
       "  </thead>\n",
       "  <tbody>\n",
       "    <tr>\n",
       "      <th>169</th>\n",
       "      <td>1</td>\n",
       "      <td>2013-05-03</td>\n",
       "      <td>2298.63</td>\n",
       "      <td>2.00</td>\n",
       "      <td>NaN</td>\n",
       "      <td>False</td>\n",
       "      <td>2013</td>\n",
       "      <td>5</td>\n",
       "      <td>3</td>\n",
       "    </tr>\n",
       "    <tr>\n",
       "      <th>170</th>\n",
       "      <td>1</td>\n",
       "      <td>2013-05-10</td>\n",
       "      <td>4624.61</td>\n",
       "      <td>83.88</td>\n",
       "      <td>NaN</td>\n",
       "      <td>False</td>\n",
       "      <td>2013</td>\n",
       "      <td>5</td>\n",
       "      <td>10</td>\n",
       "    </tr>\n",
       "    <tr>\n",
       "      <th>171</th>\n",
       "      <td>1</td>\n",
       "      <td>2013-05-17</td>\n",
       "      <td>16170.50</td>\n",
       "      <td>92.00</td>\n",
       "      <td>NaN</td>\n",
       "      <td>False</td>\n",
       "      <td>2013</td>\n",
       "      <td>5</td>\n",
       "      <td>17</td>\n",
       "    </tr>\n",
       "    <tr>\n",
       "      <th>172</th>\n",
       "      <td>1</td>\n",
       "      <td>2013-05-24</td>\n",
       "      <td>7959.89</td>\n",
       "      <td>178.00</td>\n",
       "      <td>NaN</td>\n",
       "      <td>False</td>\n",
       "      <td>2013</td>\n",
       "      <td>5</td>\n",
       "      <td>24</td>\n",
       "    </tr>\n",
       "    <tr>\n",
       "      <th>173</th>\n",
       "      <td>1</td>\n",
       "      <td>2013-05-31</td>\n",
       "      <td>2369.77</td>\n",
       "      <td>142.45</td>\n",
       "      <td>NaN</td>\n",
       "      <td>False</td>\n",
       "      <td>2013</td>\n",
       "      <td>5</td>\n",
       "      <td>31</td>\n",
       "    </tr>\n",
       "    <tr>\n",
       "      <th>...</th>\n",
       "      <td>...</td>\n",
       "      <td>...</td>\n",
       "      <td>...</td>\n",
       "      <td>...</td>\n",
       "      <td>...</td>\n",
       "      <td>...</td>\n",
       "      <td>...</td>\n",
       "      <td>...</td>\n",
       "      <td>...</td>\n",
       "    </tr>\n",
       "    <tr>\n",
       "      <th>5455</th>\n",
       "      <td>30</td>\n",
       "      <td>2013-06-28</td>\n",
       "      <td>1063.88</td>\n",
       "      <td>NaN</td>\n",
       "      <td>NaN</td>\n",
       "      <td>False</td>\n",
       "      <td>2013</td>\n",
       "      <td>6</td>\n",
       "      <td>28</td>\n",
       "    </tr>\n",
       "    <tr>\n",
       "      <th>5456</th>\n",
       "      <td>30</td>\n",
       "      <td>2013-07-05</td>\n",
       "      <td>378.21</td>\n",
       "      <td>NaN</td>\n",
       "      <td>NaN</td>\n",
       "      <td>False</td>\n",
       "      <td>2013</td>\n",
       "      <td>7</td>\n",
       "      <td>5</td>\n",
       "    </tr>\n",
       "    <tr>\n",
       "      <th>5457</th>\n",
       "      <td>30</td>\n",
       "      <td>2013-07-12</td>\n",
       "      <td>466.05</td>\n",
       "      <td>NaN</td>\n",
       "      <td>NaN</td>\n",
       "      <td>False</td>\n",
       "      <td>2013</td>\n",
       "      <td>7</td>\n",
       "      <td>12</td>\n",
       "    </tr>\n",
       "    <tr>\n",
       "      <th>5458</th>\n",
       "      <td>30</td>\n",
       "      <td>2013-07-19</td>\n",
       "      <td>189.49</td>\n",
       "      <td>NaN</td>\n",
       "      <td>NaN</td>\n",
       "      <td>False</td>\n",
       "      <td>2013</td>\n",
       "      <td>7</td>\n",
       "      <td>19</td>\n",
       "    </tr>\n",
       "    <tr>\n",
       "      <th>5459</th>\n",
       "      <td>30</td>\n",
       "      <td>2013-07-26</td>\n",
       "      <td>35.08</td>\n",
       "      <td>NaN</td>\n",
       "      <td>NaN</td>\n",
       "      <td>False</td>\n",
       "      <td>2013</td>\n",
       "      <td>7</td>\n",
       "      <td>26</td>\n",
       "    </tr>\n",
       "  </tbody>\n",
       "</table>\n",
       "<p>390 rows × 9 columns</p>\n",
       "</div>"
      ],
      "text/plain": [
       "      ID Date_in_a_week  Campaign 1  Campaign 2  Consumer Price Index  \\\n",
       "169    1     2013-05-03     2298.63        2.00                   NaN   \n",
       "170    1     2013-05-10     4624.61       83.88                   NaN   \n",
       "171    1     2013-05-17    16170.50       92.00                   NaN   \n",
       "172    1     2013-05-24     7959.89      178.00                   NaN   \n",
       "173    1     2013-05-31     2369.77      142.45                   NaN   \n",
       "...   ..            ...         ...         ...                   ...   \n",
       "5455  30     2013-06-28     1063.88         NaN                   NaN   \n",
       "5456  30     2013-07-05      378.21         NaN                   NaN   \n",
       "5457  30     2013-07-12      466.05         NaN                   NaN   \n",
       "5458  30     2013-07-19      189.49         NaN                   NaN   \n",
       "5459  30     2013-07-26       35.08         NaN                   NaN   \n",
       "\n",
       "      Holiday  year  month  day  \n",
       "169     False  2013      5    3  \n",
       "170     False  2013      5   10  \n",
       "171     False  2013      5   17  \n",
       "172     False  2013      5   24  \n",
       "173     False  2013      5   31  \n",
       "...       ...   ...    ...  ...  \n",
       "5455    False  2013      6   28  \n",
       "5456    False  2013      7    5  \n",
       "5457    False  2013      7   12  \n",
       "5458    False  2013      7   19  \n",
       "5459    False  2013      7   26  \n",
       "\n",
       "[390 rows x 9 columns]"
      ]
     },
     "execution_count": 13,
     "metadata": {},
     "output_type": "execute_result"
    }
   ],
   "source": [
    "missing_cpi = more_attributes[more_attributes['Consumer Price Index'].isnull()]\n",
    "missing_cpi"
   ]
  },
  {
   "cell_type": "code",
   "execution_count": 14,
   "metadata": {},
   "outputs": [
    {
     "name": "stderr",
     "output_type": "stream",
     "text": [
      "<ipython-input-14-f921a6597108>:1: SettingWithCopyWarning: \n",
      "A value is trying to be set on a copy of a slice from a DataFrame.\n",
      "Try using .loc[row_indexer,col_indexer] = value instead\n",
      "\n",
      "See the caveats in the documentation: https://pandas.pydata.org/pandas-docs/stable/user_guide/indexing.html#returning-a-view-versus-a-copy\n",
      "  missing_cpi['year']=pd.DatetimeIndex(missing_cpi['Date_in_a_week']).year\n"
     ]
    }
   ],
   "source": [
    "missing_cpi['year']=pd.DatetimeIndex(missing_cpi['Date_in_a_week']).year"
   ]
  },
  {
   "cell_type": "code",
   "execution_count": 15,
   "metadata": {},
   "outputs": [
    {
     "data": {
      "text/plain": [
       "array([2013], dtype=int64)"
      ]
     },
     "execution_count": 15,
     "metadata": {},
     "output_type": "execute_result"
    }
   ],
   "source": [
    "missing_cpi['year'].unique()\n",
    "# This means consumer price index of 2013 is  missing because of the unavailablity of the data"
   ]
  },
  {
   "cell_type": "code",
   "execution_count": 16,
   "metadata": {},
   "outputs": [],
   "source": [
    "# Thus we will substitute the null values with previous year average\n",
    "more_attributes['Consumer Price Index'] = more_attributes['Consumer Price Index'].fillna(173)"
   ]
  },
  {
   "cell_type": "code",
   "execution_count": 17,
   "metadata": {},
   "outputs": [],
   "source": [
    "# In campaigns we are not seeing any trend thus we will substite the null values with their average\n",
    "more_attributes['Campaign 1'] = more_attributes['Campaign 1'].fillna(5578)\n",
    "more_attributes['Campaign 2'] = more_attributes['Campaign 2'].fillna(3714)"
   ]
  },
  {
   "cell_type": "code",
   "execution_count": 18,
   "metadata": {},
   "outputs": [
    {
     "data": {
      "text/plain": [
       "ID                      0\n",
       "Date_in_a_week          0\n",
       "Campaign 1              0\n",
       "Campaign 2              0\n",
       "Consumer Price Index    0\n",
       "Holiday                 0\n",
       "year                    0\n",
       "month                   0\n",
       "day                     0\n",
       "dtype: int64"
      ]
     },
     "execution_count": 18,
     "metadata": {},
     "output_type": "execute_result"
    }
   ],
   "source": [
    "more_attributes.isnull().sum()"
   ]
  },
  {
   "cell_type": "code",
   "execution_count": 19,
   "metadata": {},
   "outputs": [],
   "source": [
    "# Outlier treatment\n",
    "more_attributes['Campaign 1'] = np.where(more_attributes['Campaign 1'] < more_attributes['Campaign 1'].quantile(0.01),more_attributes['Campaign 1'].quantile(0.01),more_attributes['Campaign 1'])\n",
    "more_attributes['Campaign 1'] = np.where(more_attributes['Campaign 1'] > more_attributes['Campaign 1'].quantile(0.99),more_attributes['Campaign 1'].quantile(0.99),more_attributes['Campaign 1'])\n",
    "more_attributes['Campaign 2'] = np.where(more_attributes['Campaign 2'] < more_attributes['Campaign 2'].quantile(0.01),more_attributes['Campaign 2'].quantile(0.01),more_attributes['Campaign 2'])\n",
    "more_attributes['Campaign 2'] = np.where(more_attributes['Campaign 2'] > more_attributes['Campaign 2'].quantile(0.99),more_attributes['Campaign 2'].quantile(0.99),more_attributes['Campaign 2'])"
   ]
  },
  {
   "cell_type": "code",
   "execution_count": 84,
   "metadata": {},
   "outputs": [
    {
     "data": {
      "text/plain": [
       "(array([ 919., 3515.,  458.,  245.,  122.,   47.,   38.,   30.,   18.,\n",
       "          68.]),\n",
       " array([  210.5999 ,  3742.63116,  7274.66242, 10806.69368, 14338.72494,\n",
       "        17870.7562 , 21402.78746, 24934.81872, 28466.84998, 31998.88124,\n",
       "        35530.9125 ]),\n",
       " <BarContainer object of 10 artists>)"
      ]
     },
     "execution_count": 84,
     "metadata": {},
     "output_type": "execute_result"
    },
    {
     "data": {
      "image/png": "[encoded data removed]",
      "text/plain": [
       "<Figure size 432x288 with 1 Axes>"
      ]
     },
     "metadata": {
      "needs_background": "light"
     },
     "output_type": "display_data"
    }
   ],
   "source": [
    "plt.hist(more_attributes['Campaign 1'])"
   ]
  },
  {
   "cell_type": "code",
   "execution_count": 85,
   "metadata": {},
   "outputs": [
    {
     "data": {
      "text/plain": [
       "(array([1671., 3508.,   80.,   51.,   31.,   17.,   13.,   11.,    9.,\n",
       "          69.]),\n",
       " array([5.00000000e-01, 3.44156607e+03, 6.88263214e+03, 1.03236982e+04,\n",
       "        1.37647643e+04, 1.72058303e+04, 2.06468964e+04, 2.40879625e+04,\n",
       "        2.75290286e+04, 3.09700946e+04, 3.44111607e+04]),\n",
       " <BarContainer object of 10 artists>)"
      ]
     },
     "execution_count": 85,
     "metadata": {},
     "output_type": "execute_result"
    },
    {
     "data": {
      "image/png": "[encoded data removed]",
      "text/plain": [
       "<Figure size 432x288 with 1 Axes>"
      ]
     },
     "metadata": {
      "needs_background": "light"
     },
     "output_type": "display_data"
    }
   ],
   "source": [
    "plt.hist(more_attributes['Campaign 2'])"
   ]
  },
  {
   "cell_type": "code",
   "execution_count": 86,
   "metadata": {},
   "outputs": [
    {
     "data": {
      "text/plain": [
       "(array([1651.,  884.,    0.,    0.,  390.,   90.,  351.,  202., 1037.,\n",
       "         855.]),\n",
       " array([126.064     , 136.35524563, 146.64649126, 156.93773689,\n",
       "        167.22898252, 177.52022815, 187.81147378, 198.10271941,\n",
       "        208.39396504, 218.68521067, 228.9764563 ]),\n",
       " <BarContainer object of 10 artists>)"
      ]
     },
     "execution_count": 86,
     "metadata": {},
     "output_type": "execute_result"
    },
    {
     "data": {
      "image/png": "[encoded data removed]",
      "text/plain": [
       "<Figure size 432x288 with 1 Axes>"
      ]
     },
     "metadata": {
      "needs_background": "light"
     },
     "output_type": "display_data"
    }
   ],
   "source": [
    "plt.hist(more_attributes['Consumer Price Index'])"
   ]
  },
  {
   "cell_type": "code",
   "execution_count": 87,
   "metadata": {},
   "outputs": [
    {
     "data": {
      "text/plain": [
       "<matplotlib.collections.PathCollection at 0x28432d8d520>"
      ]
     },
     "execution_count": 87,
     "metadata": {},
     "output_type": "execute_result"
    },
    {
     "data": {
      "image/png": "[encoded data removed]",
      "text/plain": [
       "<Figure size 432x288 with 1 Axes>"
      ]
     },
     "metadata": {
      "needs_background": "light"
     },
     "output_type": "display_data"
    }
   ],
   "source": [
    "plt.scatter(more_attributes['Campaign 1'],more_attributes['Campaign 2'])"
   ]
  },
  {
   "cell_type": "markdown",
   "metadata": {},
   "source": [
    "#### Train Data"
   ]
  },
  {
   "cell_type": "code",
   "execution_count": 2,
   "metadata": {},
   "outputs": [
    {
     "data": {
      "text/plain": [
       "(293704, 5)"
      ]
     },
     "execution_count": 2,
     "metadata": {},
     "output_type": "execute_result"
    }
   ],
   "source": [
    "train_data = pd.read_excel(r\"G:\\Stage 3\\train_data.xlsx\")\n",
    "train_data.shape"
   ]
  },
  {
   "cell_type": "code",
   "execution_count": 3,
   "metadata": {},
   "outputs": [
    {
     "data": {
      "text/html": [
       "<div>\n",
       "<style scoped>\n",
       "    .dataframe tbody tr th:only-of-type {\n",
       "        vertical-align: middle;\n",
       "    }\n",
       "\n",
       "    .dataframe tbody tr th {\n",
       "        vertical-align: top;\n",
       "    }\n",
       "\n",
       "    .dataframe thead th {\n",
       "        text-align: right;\n",
       "    }\n",
       "</style>\n",
       "<table border=\"1\" class=\"dataframe\">\n",
       "  <thead>\n",
       "    <tr style=\"text-align: right;\">\n",
       "      <th></th>\n",
       "      <th>Book_Stall</th>\n",
       "      <th>Genre</th>\n",
       "      <th>Week_Date</th>\n",
       "      <th>Sales_in_a_week</th>\n",
       "      <th>Holiday</th>\n",
       "    </tr>\n",
       "  </thead>\n",
       "  <tbody>\n",
       "    <tr>\n",
       "      <th>0</th>\n",
       "      <td>1</td>\n",
       "      <td>1</td>\n",
       "      <td>2010-02-05</td>\n",
       "      <td>24924.50</td>\n",
       "      <td>False</td>\n",
       "    </tr>\n",
       "    <tr>\n",
       "      <th>1</th>\n",
       "      <td>1</td>\n",
       "      <td>1</td>\n",
       "      <td>2010-02-12</td>\n",
       "      <td>46039.49</td>\n",
       "      <td>True</td>\n",
       "    </tr>\n",
       "    <tr>\n",
       "      <th>2</th>\n",
       "      <td>1</td>\n",
       "      <td>1</td>\n",
       "      <td>2010-02-19</td>\n",
       "      <td>41595.55</td>\n",
       "      <td>False</td>\n",
       "    </tr>\n",
       "    <tr>\n",
       "      <th>3</th>\n",
       "      <td>1</td>\n",
       "      <td>1</td>\n",
       "      <td>2010-02-26</td>\n",
       "      <td>19403.54</td>\n",
       "      <td>False</td>\n",
       "    </tr>\n",
       "    <tr>\n",
       "      <th>4</th>\n",
       "      <td>1</td>\n",
       "      <td>1</td>\n",
       "      <td>2010-03-05</td>\n",
       "      <td>21827.90</td>\n",
       "      <td>False</td>\n",
       "    </tr>\n",
       "  </tbody>\n",
       "</table>\n",
       "</div>"
      ],
      "text/plain": [
       "   Book_Stall  Genre  Week_Date  Sales_in_a_week  Holiday\n",
       "0           1      1 2010-02-05         24924.50    False\n",
       "1           1      1 2010-02-12         46039.49     True\n",
       "2           1      1 2010-02-19         41595.55    False\n",
       "3           1      1 2010-02-26         19403.54    False\n",
       "4           1      1 2010-03-05         21827.90    False"
      ]
     },
     "execution_count": 3,
     "metadata": {},
     "output_type": "execute_result"
    }
   ],
   "source": [
    "train_data.head()"
   ]
  },
  {
   "cell_type": "code",
   "execution_count": 4,
   "metadata": {},
   "outputs": [
    {
     "data": {
      "text/plain": [
       "Book_Stall         0\n",
       "Genre              0\n",
       "Week_Date          0\n",
       "Sales_in_a_week    0\n",
       "Holiday            0\n",
       "dtype: int64"
      ]
     },
     "execution_count": 4,
     "metadata": {},
     "output_type": "execute_result"
    }
   ],
   "source": [
    "train_data.isnull().sum()"
   ]
  },
  {
   "cell_type": "code",
   "execution_count": 5,
   "metadata": {},
   "outputs": [
    {
     "data": {
      "text/html": [
       "<div>\n",
       "<style scoped>\n",
       "    .dataframe tbody tr th:only-of-type {\n",
       "        vertical-align: middle;\n",
       "    }\n",
       "\n",
       "    .dataframe tbody tr th {\n",
       "        vertical-align: top;\n",
       "    }\n",
       "\n",
       "    .dataframe thead th {\n",
       "        text-align: right;\n",
       "    }\n",
       "</style>\n",
       "<table border=\"1\" class=\"dataframe\">\n",
       "  <thead>\n",
       "    <tr style=\"text-align: right;\">\n",
       "      <th></th>\n",
       "      <th>count</th>\n",
       "      <th>mean</th>\n",
       "      <th>std</th>\n",
       "      <th>min</th>\n",
       "      <th>1%</th>\n",
       "      <th>5%</th>\n",
       "      <th>10%</th>\n",
       "      <th>25%</th>\n",
       "      <th>50%</th>\n",
       "      <th>75%</th>\n",
       "      <th>90%</th>\n",
       "      <th>95%</th>\n",
       "      <th>96%</th>\n",
       "      <th>97%</th>\n",
       "      <th>98%</th>\n",
       "      <th>99%</th>\n",
       "      <th>max</th>\n",
       "    </tr>\n",
       "  </thead>\n",
       "  <tbody>\n",
       "    <tr>\n",
       "      <th>Book_Stall</th>\n",
       "      <td>293704.0</td>\n",
       "      <td>15.395538</td>\n",
       "      <td>8.578611</td>\n",
       "      <td>1.00</td>\n",
       "      <td>1.0000</td>\n",
       "      <td>2.0</td>\n",
       "      <td>3.000</td>\n",
       "      <td>8.00</td>\n",
       "      <td>15.00</td>\n",
       "      <td>23.0000</td>\n",
       "      <td>27.000</td>\n",
       "      <td>29.000</td>\n",
       "      <td>29.0000</td>\n",
       "      <td>29.0000</td>\n",
       "      <td>30.0000</td>\n",
       "      <td>30.0000</td>\n",
       "      <td>30.00</td>\n",
       "    </tr>\n",
       "    <tr>\n",
       "      <th>Genre</th>\n",
       "      <td>293704.0</td>\n",
       "      <td>43.805471</td>\n",
       "      <td>29.911554</td>\n",
       "      <td>1.00</td>\n",
       "      <td>1.0000</td>\n",
       "      <td>4.0</td>\n",
       "      <td>7.000</td>\n",
       "      <td>19.00</td>\n",
       "      <td>36.00</td>\n",
       "      <td>72.0000</td>\n",
       "      <td>91.000</td>\n",
       "      <td>95.000</td>\n",
       "      <td>95.0000</td>\n",
       "      <td>96.0000</td>\n",
       "      <td>97.0000</td>\n",
       "      <td>98.0000</td>\n",
       "      <td>99.00</td>\n",
       "    </tr>\n",
       "    <tr>\n",
       "      <th>Sales_in_a_week</th>\n",
       "      <td>293704.0</td>\n",
       "      <td>17121.330293</td>\n",
       "      <td>23959.975137</td>\n",
       "      <td>-4988.94</td>\n",
       "      <td>6.2506</td>\n",
       "      <td>125.0</td>\n",
       "      <td>560.153</td>\n",
       "      <td>2634.67</td>\n",
       "      <td>8352.06</td>\n",
       "      <td>21598.0775</td>\n",
       "      <td>45080.896</td>\n",
       "      <td>65056.795</td>\n",
       "      <td>71517.9384</td>\n",
       "      <td>78948.0108</td>\n",
       "      <td>89878.0994</td>\n",
       "      <td>113459.3853</td>\n",
       "      <td>693099.36</td>\n",
       "    </tr>\n",
       "  </tbody>\n",
       "</table>\n",
       "</div>"
      ],
      "text/plain": [
       "                    count          mean           std      min      1%     5%  \\\n",
       "Book_Stall       293704.0     15.395538      8.578611     1.00  1.0000    2.0   \n",
       "Genre            293704.0     43.805471     29.911554     1.00  1.0000    4.0   \n",
       "Sales_in_a_week  293704.0  17121.330293  23959.975137 -4988.94  6.2506  125.0   \n",
       "\n",
       "                     10%      25%      50%         75%        90%        95%  \\\n",
       "Book_Stall         3.000     8.00    15.00     23.0000     27.000     29.000   \n",
       "Genre              7.000    19.00    36.00     72.0000     91.000     95.000   \n",
       "Sales_in_a_week  560.153  2634.67  8352.06  21598.0775  45080.896  65056.795   \n",
       "\n",
       "                        96%         97%         98%          99%        max  \n",
       "Book_Stall          29.0000     29.0000     30.0000      30.0000      30.00  \n",
       "Genre               95.0000     96.0000     97.0000      98.0000      99.00  \n",
       "Sales_in_a_week  71517.9384  78948.0108  89878.0994  113459.3853  693099.36  "
      ]
     },
     "execution_count": 5,
     "metadata": {},
     "output_type": "execute_result"
    }
   ],
   "source": [
    "train_data.describe(percentiles=[0.01,0.05,0.10,0.25,0.50,0.75,0.90,0.95,0.96,0.97,0.98,0.99]).T"
   ]
  },
  {
   "cell_type": "code",
   "execution_count": 3,
   "metadata": {},
   "outputs": [],
   "source": [
    "train_data['Sales_in_a_week'] = np.where(train_data['Sales_in_a_week'] < train_data['Sales_in_a_week'].quantile(0.01),train_data['Sales_in_a_week'].quantile(0.01),train_data['Sales_in_a_week'])\n",
    "train_data['Sales_in_a_week'] = np.where(train_data['Sales_in_a_week'] > train_data['Sales_in_a_week'].quantile(0.99),train_data['Sales_in_a_week'].quantile(0.99),train_data['Sales_in_a_week'])"
   ]
  },
  {
   "cell_type": "code",
   "execution_count": 4,
   "metadata": {},
   "outputs": [],
   "source": [
    "train_data['year']=pd.DatetimeIndex(train_data['Week_Date']).year\n",
    "train_data['month']=pd.DatetimeIndex(train_data['Week_Date']).month\n",
    "train_data['day']=pd.DatetimeIndex(train_data['Week_Date']).day"
   ]
  },
  {
   "cell_type": "code",
   "execution_count": 89,
   "metadata": {},
   "outputs": [
    {
     "name": "stderr",
     "output_type": "stream",
     "text": [
      "C:\\Users\\dell\\anaconda3\\lib\\site-packages\\seaborn\\_decorators.py:36: FutureWarning: Pass the following variable as a keyword arg: x. From version 0.12, the only valid positional argument will be `data`, and passing other arguments without an explicit keyword will result in an error or misinterpretation.\n",
      "  warnings.warn(\n"
     ]
    },
    {
     "data": {
      "text/plain": [
       "<AxesSubplot:xlabel='Book_Stall', ylabel='count'>"
      ]
     },
     "execution_count": 89,
     "metadata": {},
     "output_type": "execute_result"
    },
    {
     "data": {
      "image/png": "[encoded data removed]",
      "text/plain": [
       "<Figure size 1800x720 with 1 Axes>"
      ]
     },
     "metadata": {
      "needs_background": "light"
     },
     "output_type": "display_data"
    }
   ],
   "source": [
    "plt.figure(figsize=(25,10))\n",
    "sns.countplot(train_data['Book_Stall'])"
   ]
  },
  {
   "cell_type": "code",
   "execution_count": 92,
   "metadata": {},
   "outputs": [
    {
     "name": "stderr",
     "output_type": "stream",
     "text": [
      "C:\\Users\\dell\\anaconda3\\lib\\site-packages\\seaborn\\_decorators.py:36: FutureWarning: Pass the following variable as a keyword arg: x. From version 0.12, the only valid positional argument will be `data`, and passing other arguments without an explicit keyword will result in an error or misinterpretation.\n",
      "  warnings.warn(\n"
     ]
    },
    {
     "data": {
      "text/plain": [
       "<AxesSubplot:xlabel='Genre', ylabel='count'>"
      ]
     },
     "execution_count": 92,
     "metadata": {},
     "output_type": "execute_result"
    },
    {
     "data": {
      "image/png": "[encoded data removed]",
      "text/plain": [
       "<Figure size 1800x720 with 1 Axes>"
      ]
     },
     "metadata": {
      "needs_background": "light"
     },
     "output_type": "display_data"
    }
   ],
   "source": [
    "plt.figure(figsize=(25,10))\n",
    "sns.countplot(train_data['Genre'])"
   ]
  },
  {
   "cell_type": "code",
   "execution_count": 93,
   "metadata": {},
   "outputs": [
    {
     "data": {
      "text/plain": [
       "(array([171409.,  52418.,  25309.,  15550.,   9588.,   6167.,   4621.,\n",
       "          2927.,   1622.,   4093.]),\n",
       " array([6.25060000e+00, 1.13515641e+04, 2.26968775e+04, 3.40421910e+04,\n",
       "        4.53875045e+04, 5.67328179e+04, 6.80781314e+04, 7.94234449e+04,\n",
       "        9.07687584e+04, 1.02114072e+05, 1.13459385e+05]),\n",
       " <BarContainer object of 10 artists>)"
      ]
     },
     "execution_count": 93,
     "metadata": {},
     "output_type": "execute_result"
    },
    {
     "data": {
      "image/png": "[encoded data removed]",
      "text/plain": [
       "<Figure size 432x288 with 1 Axes>"
      ]
     },
     "metadata": {
      "needs_background": "light"
     },
     "output_type": "display_data"
    }
   ],
   "source": [
    "plt.hist(train_data['Sales_in_a_week'])"
   ]
  },
  {
   "cell_type": "code",
   "execution_count": 94,
   "metadata": {},
   "outputs": [
    {
     "name": "stderr",
     "output_type": "stream",
     "text": [
      "C:\\Users\\dell\\anaconda3\\lib\\site-packages\\seaborn\\_decorators.py:36: FutureWarning: Pass the following variable as a keyword arg: x. From version 0.12, the only valid positional argument will be `data`, and passing other arguments without an explicit keyword will result in an error or misinterpretation.\n",
      "  warnings.warn(\n"
     ]
    },
    {
     "data": {
      "text/plain": [
       "<AxesSubplot:xlabel='Holiday', ylabel='count'>"
      ]
     },
     "execution_count": 94,
     "metadata": {},
     "output_type": "execute_result"
    },
    {
     "data": {
      "image/png": "[encoded data removed]",
      "text/plain": [
       "<Figure size 432x288 with 1 Axes>"
      ]
     },
     "metadata": {
      "needs_background": "light"
     },
     "output_type": "display_data"
    }
   ],
   "source": [
    "sns.countplot(train_data['Holiday'])"
   ]
  },
  {
   "cell_type": "markdown",
   "metadata": {},
   "source": [
    "#### Test data"
   ]
  },
  {
   "cell_type": "code",
   "execution_count": 5,
   "metadata": {},
   "outputs": [
    {
     "data": {
      "text/plain": [
       "(80021, 5)"
      ]
     },
     "execution_count": 5,
     "metadata": {},
     "output_type": "execute_result"
    }
   ],
   "source": [
    "test_data = pd.read_excel(r'G:\\Stage 3\\test_sales.xlsx')\n",
    "test_data.shape"
   ]
  },
  {
   "cell_type": "code",
   "execution_count": 27,
   "metadata": {},
   "outputs": [
    {
     "data": {
      "text/html": [
       "<div>\n",
       "<style scoped>\n",
       "    .dataframe tbody tr th:only-of-type {\n",
       "        vertical-align: middle;\n",
       "    }\n",
       "\n",
       "    .dataframe tbody tr th {\n",
       "        vertical-align: top;\n",
       "    }\n",
       "\n",
       "    .dataframe thead th {\n",
       "        text-align: right;\n",
       "    }\n",
       "</style>\n",
       "<table border=\"1\" class=\"dataframe\">\n",
       "  <thead>\n",
       "    <tr style=\"text-align: right;\">\n",
       "      <th></th>\n",
       "      <th>ID</th>\n",
       "      <th>Book_Stall</th>\n",
       "      <th>Genre</th>\n",
       "      <th>Week_Date</th>\n",
       "      <th>Holiday</th>\n",
       "    </tr>\n",
       "  </thead>\n",
       "  <tbody>\n",
       "    <tr>\n",
       "      <th>0</th>\n",
       "      <td>1</td>\n",
       "      <td>1</td>\n",
       "      <td>1</td>\n",
       "      <td>2012-11-02</td>\n",
       "      <td>False</td>\n",
       "    </tr>\n",
       "    <tr>\n",
       "      <th>1</th>\n",
       "      <td>2</td>\n",
       "      <td>1</td>\n",
       "      <td>1</td>\n",
       "      <td>2012-11-09</td>\n",
       "      <td>False</td>\n",
       "    </tr>\n",
       "    <tr>\n",
       "      <th>2</th>\n",
       "      <td>3</td>\n",
       "      <td>1</td>\n",
       "      <td>1</td>\n",
       "      <td>2012-11-16</td>\n",
       "      <td>False</td>\n",
       "    </tr>\n",
       "    <tr>\n",
       "      <th>3</th>\n",
       "      <td>4</td>\n",
       "      <td>1</td>\n",
       "      <td>1</td>\n",
       "      <td>2012-11-23</td>\n",
       "      <td>True</td>\n",
       "    </tr>\n",
       "    <tr>\n",
       "      <th>4</th>\n",
       "      <td>5</td>\n",
       "      <td>1</td>\n",
       "      <td>1</td>\n",
       "      <td>2012-11-30</td>\n",
       "      <td>False</td>\n",
       "    </tr>\n",
       "  </tbody>\n",
       "</table>\n",
       "</div>"
      ],
      "text/plain": [
       "   ID  Book_Stall  Genre  Week_Date  Holiday\n",
       "0   1           1      1 2012-11-02    False\n",
       "1   2           1      1 2012-11-09    False\n",
       "2   3           1      1 2012-11-16    False\n",
       "3   4           1      1 2012-11-23     True\n",
       "4   5           1      1 2012-11-30    False"
      ]
     },
     "execution_count": 27,
     "metadata": {},
     "output_type": "execute_result"
    }
   ],
   "source": [
    "test_data.head()"
   ]
  },
  {
   "cell_type": "code",
   "execution_count": 6,
   "metadata": {},
   "outputs": [],
   "source": [
    "test_data['year']=pd.DatetimeIndex(test_data['Week_Date']).year\n",
    "test_data['month']=pd.DatetimeIndex(test_data['Week_Date']).month\n",
    "test_data['day']=pd.DatetimeIndex(test_data['Week_Date']).day"
   ]
  },
  {
   "cell_type": "code",
   "execution_count": 7,
   "metadata": {},
   "outputs": [
    {
     "data": {
      "text/plain": [
       "30"
      ]
     },
     "execution_count": 7,
     "metadata": {},
     "output_type": "execute_result"
    }
   ],
   "source": [
    "test_data['Book_Stall'].nunique()"
   ]
  },
  {
   "cell_type": "code",
   "execution_count": 8,
   "metadata": {},
   "outputs": [],
   "source": [
    "train_data['Holiday'] = np.where(train_data['Holiday']==True,1,0)\n",
    "test_data['Holiday'] = np.where(test_data['Holiday']==True,1,0)"
   ]
  },
  {
   "cell_type": "code",
   "execution_count": 34,
   "metadata": {},
   "outputs": [],
   "source": [
    "test_data_new = test_data.drop(columns=['ID','Week_Date'])"
   ]
  },
  {
   "cell_type": "markdown",
   "metadata": {},
   "source": [
    "### MODEL BUILDING"
   ]
  },
  {
   "cell_type": "code",
   "execution_count": 12,
   "metadata": {},
   "outputs": [],
   "source": [
    "from sklearn.model_selection import train_test_split\n",
    "from sklearn.linear_model import LinearRegression\n",
    "from sklearn.tree import DecisionTreeRegressor\n",
    "from sklearn.model_selection import GridSearchCV\n",
    "from sklearn.ensemble import RandomForestRegressor\n",
    "from sklearn.ensemble import GradientBoostingRegressor\n",
    "from xgboost import XGBRegressor"
   ]
  },
  {
   "cell_type": "code",
   "execution_count": 59,
   "metadata": {},
   "outputs": [
    {
     "data": {
      "text/plain": [
       "Index(['Book_Stall', 'Genre', 'Holiday', 'year', 'month', 'day'], dtype='object')"
      ]
     },
     "execution_count": 59,
     "metadata": {},
     "output_type": "execute_result"
    }
   ],
   "source": [
    "x_train.columns"
   ]
  },
  {
   "cell_type": "code",
   "execution_count": 58,
   "metadata": {},
   "outputs": [
    {
     "data": {
      "text/plain": [
       "Index(['Book_Stall', 'Genre', 'Week_Date', 'Holiday', 'year', 'month', 'day'], dtype='object')"
      ]
     },
     "execution_count": 58,
     "metadata": {},
     "output_type": "execute_result"
    }
   ],
   "source": [
    "test_data_new.columns"
   ]
  },
  {
   "cell_type": "code",
   "execution_count": 35,
   "metadata": {},
   "outputs": [],
   "source": [
    "x=train_data.drop(columns = ['Sales_in_a_week','Week_Date'])\n",
    "y=train_data['Sales_in_a_week']"
   ]
  },
  {
   "cell_type": "code",
   "execution_count": 36,
   "metadata": {},
   "outputs": [],
   "source": [
    "# Splitting the data for validation of the data\n",
    "x_train,x_val,y_train,y_val=train_test_split(x,y,test_size=0.25,random_state=0)"
   ]
  },
  {
   "cell_type": "markdown",
   "metadata": {},
   "source": [
    "### LINEAR REGRESSION"
   ]
  },
  {
   "cell_type": "code",
   "execution_count": 36,
   "metadata": {},
   "outputs": [
    {
     "name": "stdout",
     "output_type": "stream",
     "text": [
      "R^2 of train : 0.012496965565073626\n",
      "R^2 of val : 0.01312552269282552\n"
     ]
    }
   ],
   "source": [
    "lr=LinearRegression()\n",
    "lr.fit(x_train,y_train)\n",
    "print(\"R^2 of train :\",lr.score(x_train,y_train))\n",
    "print(\"R^2 of val :\",lr.score(x_val,y_val))"
   ]
  },
  {
   "cell_type": "code",
   "execution_count": 37,
   "metadata": {},
   "outputs": [],
   "source": [
    "pred_train = lr.predict(x_train)\n",
    "pred_val = lr.predict(x_val)"
   ]
  },
  {
   "cell_type": "code",
   "execution_count": 38,
   "metadata": {},
   "outputs": [
    {
     "name": "stdout",
     "output_type": "stream",
     "text": [
      "RMSE of train : 21779.42187202476\n",
      "RMSE of val : 21761.320649173642\n",
      "MAE of train : 15509.366245995956\n",
      "MAE of val : 15476.240476999774\n"
     ]
    }
   ],
   "source": [
    "print(\"RMSE of train :\",np.sqrt(np.mean(((y_train-pred_train)**2))))\n",
    "print(\"RMSE of val :\",np.sqrt(np.mean(((y_val-pred_val)**2))))\n",
    "print(\"MAE of train :\",np.mean(np.abs(((y_train-pred_train)))))\n",
    "print(\"MAE of val :\",np.mean(np.abs(((y_val-pred_val)))))"
   ]
  },
  {
   "cell_type": "code",
   "execution_count": 39,
   "metadata": {},
   "outputs": [],
   "source": [
    "# R^2 is very low thus model not working good."
   ]
  },
  {
   "cell_type": "markdown",
   "metadata": {},
   "source": [
    "### DECISION TREE REGRESSOR"
   ]
  },
  {
   "cell_type": "code",
   "execution_count": 17,
   "metadata": {},
   "outputs": [
    {
     "data": {
      "text/plain": [
       "DecisionTreeRegressor()"
      ]
     },
     "execution_count": 17,
     "metadata": {},
     "output_type": "execute_result"
    }
   ],
   "source": [
    "dt = DecisionTreeRegressor()\n",
    "dt.fit(x_train,y_train)"
   ]
  },
  {
   "cell_type": "code",
   "execution_count": 18,
   "metadata": {},
   "outputs": [],
   "source": [
    "pred_train_dt = dt.predict(x_train)\n",
    "pred_val_dt = dt.predict(x_val)"
   ]
  },
  {
   "cell_type": "code",
   "execution_count": 19,
   "metadata": {},
   "outputs": [
    {
     "name": "stdout",
     "output_type": "stream",
     "text": [
      "R^2 of train : 1.0\n",
      "R^2 of val : 0.9683368212633718\n",
      "RMSE of train : 3.475903252280859e-12\n",
      "RMSE of val : 3897.9076529114304\n",
      "MAE of train : 2.982044145609223e-13\n",
      "MAE of val : 1802.1421147999308\n"
     ]
    }
   ],
   "source": [
    "print(\"R^2 of train :\",dt.score(x_train,y_train))\n",
    "print(\"R^2 of val :\",dt.score(x_val,y_val))\n",
    "print(\"RMSE of train :\",np.sqrt(np.mean(((y_train-pred_train_dt)**2))))\n",
    "print(\"RMSE of val :\",np.sqrt(np.mean(((y_val-pred_val_dt)**2))))\n",
    "print(\"MAE of train :\",np.mean(np.abs(((y_train-pred_train_dt)))))\n",
    "print(\"MAE of val :\",np.mean(np.abs(((y_val-pred_val_dt)))))"
   ]
  },
  {
   "cell_type": "code",
   "execution_count": null,
   "metadata": {},
   "outputs": [
    {
     "name": "stderr",
     "output_type": "stream",
     "text": [
      "C:\\Users\\SIDDHARTH KATHURIA\\anaconda3\\lib\\site-packages\\sklearn\\tree\\_classes.py:366: FutureWarning: Criterion 'mae' was deprecated in v1.0 and will be removed in version 1.2. Use `criterion='absolute_error'` which is equivalent.\n",
      "  warnings.warn(\n"
     ]
    }
   ],
   "source": [
    "dt2 = DecisionTreeRegressor(criterion = 'mae',max_depth = 5)\n",
    "dt2.fit(x_train,y_train)"
   ]
  },
  {
   "cell_type": "code",
   "execution_count": 96,
   "metadata": {},
   "outputs": [],
   "source": [
    "pred_train_dt2 = dt2.predict(x_train)\n",
    "pred_val_dt2 = dt2.predict(x_val)"
   ]
  },
  {
   "cell_type": "code",
   "execution_count": 97,
   "metadata": {},
   "outputs": [
    {
     "name": "stdout",
     "output_type": "stream",
     "text": [
      "R^2 of train : 0.2881796614030243\n",
      "R^2 of val : 0.2873469422536622\n",
      "RMSE of train : 18491.0819930694\n",
      "RMSE of val : 18492.40371096364\n",
      "MAE of train : 10656.786800929487\n",
      "MAE of val : 10601.119175884358\n"
     ]
    }
   ],
   "source": [
    "print(\"R^2 of train :\",dt2.score(x_train,y_train))\n",
    "print(\"R^2 of val :\",dt2.score(x_val,y_val))\n",
    "print(\"RMSE of train :\",np.sqrt(np.mean(((y_train-pred_train_dt2)**2))))\n",
    "print(\"RMSE of val :\",np.sqrt(np.mean(((y_val-pred_val_dt2)**2))))\n",
    "print(\"MAE of train :\",np.mean(np.abs(((y_train-pred_train_dt2)))))\n",
    "print(\"MAE of val :\",np.mean(np.abs(((y_val-pred_val_dt2)))))"
   ]
  },
  {
   "cell_type": "code",
   "execution_count": 64,
   "metadata": {},
   "outputs": [],
   "source": [
    "pred_test_dt = dt.predict(test_data_new)"
   ]
  },
  {
   "cell_type": "code",
   "execution_count": 65,
   "metadata": {},
   "outputs": [],
   "source": [
    "dt_submission = pd.DataFrame(test_data['ID'],columns=[\"ID\"])\n",
    "dt_submission['Sales_in_a_week'] = pred_test_dt\n",
    "dt_submission.set_index(test_data['ID'],inplace=True)\n",
    "dt_submission.drop(columns=[\"ID\"],inplace=True)"
   ]
  },
  {
   "cell_type": "code",
   "execution_count": 66,
   "metadata": {},
   "outputs": [],
   "source": [
    "dt_submission.to_csv(r'F:\\Stage 3\\dt_submission.csv')"
   ]
  },
  {
   "cell_type": "markdown",
   "metadata": {},
   "source": [
    "### RANDOM FOREST REGRESSOR"
   ]
  },
  {
   "cell_type": "code",
   "execution_count": 37,
   "metadata": {},
   "outputs": [
    {
     "name": "stdout",
     "output_type": "stream",
     "text": [
      "r2 of train: 0.983306261553913\n",
      "r2 of val: 0.9651298384172853\n"
     ]
    }
   ],
   "source": [
    "rf = RandomForestRegressor()\n",
    "rf.fit(x_train,y_train)\n",
    "print('r2 of train:', rf.score(x_train,y_train))\n",
    "print('r2 of val:', rf.score(x_val,y_val))"
   ]
  },
  {
   "cell_type": "code",
   "execution_count": 38,
   "metadata": {},
   "outputs": [],
   "source": [
    "pred_train_rf = rf.predict(x_train)\n",
    "pred_val_rf = rf.predict(x_val)"
   ]
  },
  {
   "cell_type": "code",
   "execution_count": 39,
   "metadata": {},
   "outputs": [
    {
     "name": "stdout",
     "output_type": "stream",
     "text": [
      "r2 of train : 0.983306261553913\n",
      "r2 of val : 0.9651298384172853\n",
      "RMSE of train : 2831.7436176519745\n",
      "RMSE of val : 4090.5458930433538\n",
      "MAE of train : 1233.55822233977\n",
      "MAE of val : 1813.7499894661569\n"
     ]
    }
   ],
   "source": [
    "print(\"r2 of train :\" ,rf.score(x_train,y_train))\n",
    "print(\"r2 of val :\" ,rf.score(x_val,y_val))\n",
    "print(\"RMSE of train :\",np.sqrt(np.mean(((y_train-pred_train_rf)**2))))\n",
    "print(\"RMSE of val :\",np.sqrt(np.mean(((y_val-pred_val_rf)**2))))\n",
    "print(\"MAE of train :\",np.mean(np.abs(((y_train-pred_train_rf)))))\n",
    "print(\"MAE of val :\",np.mean(np.abs(((y_val-pred_val_rf)))))"
   ]
  },
  {
   "cell_type": "code",
   "execution_count": 31,
   "metadata": {},
   "outputs": [
    {
     "data": {
      "text/plain": [
       "RandomForestRegressor(max_depth=8, n_estimators=150)"
      ]
     },
     "execution_count": 31,
     "metadata": {},
     "output_type": "execute_result"
    }
   ],
   "source": [
    "rf1=RandomForestRegressor(max_depth=8,n_estimators=150)\n",
    "rf1.fit(x_train,y_train)"
   ]
  },
  {
   "cell_type": "code",
   "execution_count": 32,
   "metadata": {},
   "outputs": [],
   "source": [
    "pred_train_rf1 = rf1.predict(x_train)\n",
    "pred_val_rf1 = rf1.predict(x_val)"
   ]
  },
  {
   "cell_type": "code",
   "execution_count": 33,
   "metadata": {},
   "outputs": [
    {
     "name": "stdout",
     "output_type": "stream",
     "text": [
      "r2 of train : 0.6973664613944114\n",
      "r2 of val : 0.6967509645434173\n",
      "RMSE of train : 12056.899917951157\n",
      "RMSE of val : 12062.963220501257\n",
      "MAE of train : 7355.940946388369\n",
      "MAE of val : 7351.660936185408\n"
     ]
    }
   ],
   "source": [
    "print(\"r2 of train :\" ,rf1.score(x_train,y_train))\n",
    "print(\"r2 of val :\" ,rf1.score(x_val,y_val))\n",
    "print(\"RMSE of train :\",np.sqrt(np.mean(((y_train-pred_train_rf1)**2))))\n",
    "print(\"RMSE of val :\",np.sqrt(np.mean(((y_val-pred_val_rf1)**2))))\n",
    "print(\"MAE of train :\",np.mean(np.abs(((y_train-pred_train_rf1)))))\n",
    "print(\"MAE of val :\",np.mean(np.abs(((y_val-pred_val_rf1)))))"
   ]
  },
  {
   "cell_type": "code",
   "execution_count": 40,
   "metadata": {},
   "outputs": [],
   "source": [
    "pred_test_rf=rf.predict(test_data_new)"
   ]
  },
  {
   "cell_type": "code",
   "execution_count": 41,
   "metadata": {},
   "outputs": [],
   "source": [
    "rf_submission = pd.DataFrame(test_data['ID'],columns=[\"ID\"])\n",
    "rf_submission['Sales_in_a_week'] = pred_test_rf\n",
    "rf_submission.set_index(test_data['ID'],inplace=True)\n",
    "rf_submission.drop(columns=[\"ID\"],inplace=True)\n",
    "rf_submission.to_csv(r'G:\\Stage 3\\rf_submission2.csv')"
   ]
  },
  {
   "cell_type": "markdown",
   "metadata": {},
   "source": [
    "### GRADIENT BOOSTING REGRESSOR"
   ]
  },
  {
   "cell_type": "code",
   "execution_count": 20,
   "metadata": {},
   "outputs": [
    {
     "name": "stdout",
     "output_type": "stream",
     "text": [
      "r2 for train : 0.6586317701368478\n",
      "r2 for val : 0.6596919463099609\n"
     ]
    }
   ],
   "source": [
    "gb = GradientBoostingRegressor()\n",
    "gb.fit(x_train,y_train)\n",
    "print(\"r2 for train :\",gb.score(x_train,y_train))\n",
    "print(\"r2 for val :\",gb.score(x_val,y_val))"
   ]
  },
  {
   "cell_type": "code",
   "execution_count": 21,
   "metadata": {},
   "outputs": [],
   "source": [
    "pred_train_gb = gb.predict(x_train)\n",
    "pred_val_gb = gb.predict(x_val)"
   ]
  },
  {
   "cell_type": "code",
   "execution_count": 53,
   "metadata": {},
   "outputs": [
    {
     "name": "stdout",
     "output_type": "stream",
     "text": [
      "RMSE of train : 12805.268171843756\n",
      "RMSE of val : 12778.809712765857\n",
      "MAE of train : 8328.293378774799\n",
      "MAE of val : 8307.017427320778\n"
     ]
    }
   ],
   "source": [
    "print(\"RMSE of train :\",np.sqrt(np.mean(((y_train-pred_train_gb)**2))))\n",
    "print(\"RMSE of val :\",np.sqrt(np.mean(((y_val-pred_val_gb)**2))))\n",
    "print(\"MAE of train :\",np.mean(np.abs(((y_train-pred_train_gb)))))\n",
    "print(\"MAE of val :\",np.mean(np.abs(((y_val-pred_val_gb)))))"
   ]
  },
  {
   "cell_type": "code",
   "execution_count": 69,
   "metadata": {},
   "outputs": [],
   "source": [
    "pred_test_gb=gb.predict(test_data_new)"
   ]
  },
  {
   "cell_type": "code",
   "execution_count": 70,
   "metadata": {},
   "outputs": [],
   "source": [
    "gb_submission = pd.DataFrame(test_data['ID'],columns=[\"ID\"])\n",
    "gb_submission['Sales_in_a_week'] = pred_test_gb\n",
    "gb_submission.set_index(test_data['ID'],inplace=True)\n",
    "gb_submission.drop(columns=[\"ID\"],inplace=True)\n",
    "gb_submission.to_csv(r'F:\\Stage 3\\gb_submission.csv')"
   ]
  },
  {
   "cell_type": "markdown",
   "metadata": {},
   "source": [
    "### XTREME GRADIENT BOOSTING REGRESSOR"
   ]
  },
  {
   "cell_type": "code",
   "execution_count": 54,
   "metadata": {},
   "outputs": [
    {
     "name": "stdout",
     "output_type": "stream",
     "text": [
      "r2 for train : 0.9427116216383487\n",
      "r2 for val : 0.940741577506044\n"
     ]
    }
   ],
   "source": [
    "xgb = XGBRegressor()\n",
    "xgb.fit(x_train,y_train)\n",
    "print(\"r2 for train :\",xgb.score(x_train,y_train))\n",
    "print(\"r2 for val :\",xgb.score(x_val,y_val))"
   ]
  },
  {
   "cell_type": "code",
   "execution_count": 55,
   "metadata": {},
   "outputs": [],
   "source": [
    "pred_train_xgb = gb.predict(x_train)\n",
    "pred_val_xgb = gb.predict(x_val)"
   ]
  },
  {
   "cell_type": "code",
   "execution_count": 56,
   "metadata": {},
   "outputs": [
    {
     "name": "stdout",
     "output_type": "stream",
     "text": [
      "RMSE of train : 12805.268171843756\n",
      "RMSE of val : 12778.809712765857\n",
      "MAE of train : 8328.293378774799\n",
      "MAE of val : 8307.017427320778\n"
     ]
    }
   ],
   "source": [
    "print(\"RMSE of train :\",np.sqrt(np.mean(((y_train-pred_train_xgb)**2))))\n",
    "print(\"RMSE of val :\",np.sqrt(np.mean(((y_val-pred_val_xgb)**2))))\n",
    "print(\"MAE of train :\",np.mean(np.abs(((y_train-pred_train_xgb)))))\n",
    "print(\"MAE of val :\",np.mean(np.abs(((y_val-pred_val_xgb)))))"
   ]
  },
  {
   "cell_type": "code",
   "execution_count": 71,
   "metadata": {},
   "outputs": [],
   "source": [
    "pred_test_xgb=xgb.predict(test_data_new)"
   ]
  },
  {
   "cell_type": "code",
   "execution_count": 72,
   "metadata": {},
   "outputs": [],
   "source": [
    "xgb_submission = pd.DataFrame(test_data['ID'],columns=[\"ID\"])\n",
    "xgb_submission['Sales_in_a_week'] = pred_test_xgb\n",
    "xgb_submission.set_index(test_data['ID'],inplace=True)\n",
    "xgb_submission.drop(columns=[\"ID\"],inplace=True)\n",
    "xgb_submission.to_csv(r'F:\\Stage 3\\xgb_submission.csv')"
   ]
  },
  {
   "cell_type": "code",
   "execution_count": null,
   "metadata": {},
   "outputs": [],
   "source": []
  }
 ],
 "metadata": {
  "kernelspec": {
   "display_name": "Python 3",
   "language": "python",
   "name": "python3"
  },
  "language_info": {
   "codemirror_mode": {
    "name": "ipython",
    "version": 3
   },
   "file_extension": ".py",
   "mimetype": "text/x-python",
   "name": "python",
   "nbconvert_exporter": "python",
   "pygments_lexer": "ipython3",
   "version": "3.8.5"
  }
 },
 "nbformat": 4,
 "nbformat_minor": 4
}
